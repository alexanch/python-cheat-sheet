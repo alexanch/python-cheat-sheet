{
 "cells": [
  {
   "cell_type": "markdown",
   "metadata": {},
   "source": [
    "### PYTHON NOTES\n"
   ]
  },
  {
   "cell_type": "code",
   "execution_count": 166,
   "metadata": {},
   "outputs": [
    {
     "data": {
      "text/plain": [
       "12"
      ]
     },
     "execution_count": 166,
     "metadata": {},
     "output_type": "execute_result"
    }
   ],
   "source": [
    "### NUMBERS ###\n",
    "\n",
    "hex(123) #heximal \n",
    "bin(111) #binary\n",
    "abs(12.2) #absolute value\n",
    "round(12.4,3) # rounds to n=3 digits after point\n",
    "\n",
    "25%2 # mod operation\n",
    "25//2 # absolute value after division\n",
    "2**8 # 2 to power of 8"
   ]
  },
  {
   "cell_type": "code",
   "execution_count": 181,
   "metadata": {},
   "outputs": [
    {
     "data": {
      "text/plain": [
       "False"
      ]
     },
     "execution_count": 181,
     "metadata": {},
     "output_type": "execute_result"
    }
   ],
   "source": [
    "### STRINGS ###\n",
    "\n",
    "# slicing:\n",
    "s = 'hello world'\n",
    "s[0:2] # string slicing\n",
    "s[::2] # iteration over each 2nd character\n",
    "s[::-1] # reverse string iteration\n",
    "\n",
    "#check if some element is in list:\n",
    "'hell' in s\n",
    "\n",
    "# methods:\n",
    "s.capitalize()\n",
    "s.split() # split character can be chosen in the brackets\n",
    "s.upper()\n",
    "s.lower()\n",
    "s.find('l')\n",
    "s.count('s')\n",
    "s.istitle()\n",
    "s.partition('a')  # [..head, separator, string..]\n",
    "\n",
    "### check the string:\n",
    "s = 'hello'\n",
    "s.isalnum() # all the characters are alpha-numeric\n",
    "s.isalpha() # all character alphabetic\n",
    "s.islower() #\n",
    "s.isupper()\n"
   ]
  },
  {
   "cell_type": "code",
   "execution_count": 179,
   "metadata": {},
   "outputs": [
    {
     "name": "stdout",
     "output_type": "stream",
     "text": [
      "[2]\n",
      "1\n"
     ]
    },
    {
     "data": {
      "text/plain": [
       "[0, 1, 2, 3, 4, 5, 6, 7, 8, 9]"
      ]
     },
     "execution_count": 179,
     "metadata": {},
     "output_type": "execute_result"
    }
   ],
   "source": [
    "### LISTS ###\n",
    "\n",
    "ls = [44,1,2]\n",
    "\n",
    "#check if some element is in list:\n",
    "44 in ls\n",
    "\n",
    "# methods\n",
    "ls.sort()      #sorts the array\n",
    "ls.append('a') # adds 'a' to the end of the list\n",
    "ls[0],ls[-1] = ls[-1],ls[0] # we can reassign the element \n",
    "a = ls.pop() # delete the last element and assign it to a. Possible to set the index of the element\n",
    "del ls[-1]  # delete the n-th element from the list\n",
    "ls.reverse() #reverse the list\n",
    "ls.count(1) # counts the number of 1 in the list\n",
    "ls.remove('a') # removes the first value ('a') in the list if exists \n",
    "\n",
    "print(f'{ls}\\n{a}')\n",
    "\n",
    "# list comprehensions \n",
    "[x for x in range(0,10)]\n"
   ]
  },
  {
   "cell_type": "code",
   "execution_count": 122,
   "metadata": {},
   "outputs": [
    {
     "name": "stdout",
     "output_type": "stream",
     "text": [
      "dict_keys(['key1', 'key2'])\n",
      "dict_values(['value', 'value2'])\n",
      "dict_items([('key1', 'value'), ('key2', 'value2')])\n",
      "key1\n",
      "key2\n"
     ]
    },
    {
     "data": {
      "text/plain": [
       "{'a': 0, 'b': 1}"
      ]
     },
     "execution_count": 122,
     "metadata": {},
     "output_type": "execute_result"
    }
   ],
   "source": [
    "#### DICTIONARIES ####\n",
    "\n",
    "some_dict = {'key1':'value', 'key2':'value2'}\n",
    "print(some_dict.keys())\n",
    "print(some_dict.values())\n",
    "print(some_dict.items())\n",
    "\n",
    "for k in some_dict.keys():\n",
    "    print(k)\n",
    "\n",
    "{'key_'+str(x):x for x in range(10)}\n",
    "{a:b for a,b in zip(['a','b'],range(2))}"
   ]
  },
  {
   "cell_type": "code",
   "execution_count": 145,
   "metadata": {},
   "outputs": [
    {
     "name": "stdout",
     "output_type": "stream",
     "text": [
      "set()\n"
     ]
    }
   ],
   "source": [
    "#### SETS ####\n",
    "\n",
    "s = set((1,2,3,5,4))\n",
    "ss = s.copy()\n",
    "#s.clear()\n",
    "\n",
    "ss.add(5)\n",
    "# advanced methods:\n",
    "ss.difference(s) # returns the elements that didn't exist in two sets\n",
    "ss.difference_update(s) # excludes elements in common between ss and s from ss\n",
    "ss.discard(222) #removes the element if present\n",
    "print(ss.intersection(s)) # returns list with elements in common\n",
    "\n",
    "ss.intersection_update(s) # makes the ss equal to intersected array\n",
    "ss.isdisjoint(s) # return True if lists have null - intersection\n",
    "ss.issubset(s) # "
   ]
  },
  {
   "cell_type": "code",
   "execution_count": 182,
   "metadata": {},
   "outputs": [
    {
     "data": {
      "text/plain": [
       "1"
      ]
     },
     "execution_count": 182,
     "metadata": {},
     "output_type": "execute_result"
    }
   ],
   "source": [
    "### TUPLES ###\n",
    "\n",
    "f = (3,1,3,5,5)\n",
    "f.count(3)  # how many 3's in the tuple?\n",
    "f.index(1)  "
   ]
  },
  {
   "cell_type": "code",
   "execution_count": 184,
   "metadata": {},
   "outputs": [
    {
     "name": "stdout",
     "output_type": "stream",
     "text": [
      "input number:55\n",
      "input: 55\n",
      "f-string\n"
     ]
    }
   ],
   "source": [
    "# input and print:\n",
    "\n",
    "a = input('input number:')\n",
    "print(f'input: {a}\\nf-string') # \\n equals enter"
   ]
  },
  {
   "cell_type": "code",
   "execution_count": 77,
   "metadata": {},
   "outputs": [
    {
     "name": "stdout",
     "output_type": "stream",
     "text": [
      "(1, 2, 3, 4)\n",
      "{'a': 1, 'b': 1}\n",
      "dict_values([1, 1])\n"
     ]
    }
   ],
   "source": [
    "#### *args and **kwargs: ####\n",
    "\n",
    "# when you don't know how many input values will be passed, you can use *args and **kwargs\n",
    "\n",
    "def some_func(*args):\n",
    "    print(args)\n",
    "    \n",
    "some_func(1,2,3,4)\n",
    "\n",
    "def some_func_kwargs(**kwargs):\n",
    "    print (kwargs)\n",
    "    print (kwargs.values())\n",
    "\n",
    "some_func_kwargs(a=1,b=1)"
   ]
  },
  {
   "cell_type": "code",
   "execution_count": 227,
   "metadata": {},
   "outputs": [
    {
     "name": "stdout",
     "output_type": "stream",
     "text": [
      "0\n",
      "2\n",
      "4\n",
      "6\n",
      "8\n"
     ]
    },
    {
     "data": {
      "text/plain": [
       "[(1, 'a'), (2, 'b'), (3, 'c')]"
      ]
     },
     "execution_count": 227,
     "metadata": {},
     "output_type": "execute_result"
    }
   ],
   "source": [
    "#### USEFULL OPERATORS ####\n",
    "\n",
    "lst = [1,2,3,4,5]\n",
    "max(lst)\n",
    "min(lst)\n",
    "\n",
    "###\n",
    "from random import shuffle\n",
    "from random import randint\n",
    "rand_list = shuffle(lst)\n",
    "lst_rand = randint(0,10)\n",
    "lst_rand\n",
    "\n",
    "###\n",
    "list(range(0,10))\n",
    "type(50)\n",
    "int(59.3)\n",
    "float(49)\n",
    "\n",
    "####\n",
    "for num in range(0,10,2):   #iterate with some step\n",
    "    print(num) \n",
    "\n",
    "\n",
    "# enumerate() returns a tuple, where tpl[0] - index, tpl[1] - value\n",
    "letter = 'a'\n",
    "word = 'faf wfiwekrfff a'\n",
    "dct = {}\n",
    "for item in enumerate(word):\n",
    "    dct[item[0]]=item[1]\n",
    "    \n",
    "dct\n",
    "\n",
    "list(zip([1,2,3],['a','b','c']))"
   ]
  },
  {
   "cell_type": "code",
   "execution_count": 226,
   "metadata": {},
   "outputs": [
    {
     "data": {
      "text/plain": [
       "[2, 4]"
      ]
     },
     "execution_count": 226,
     "metadata": {},
     "output_type": "execute_result"
    }
   ],
   "source": [
    "#### FUNCTION DEFINITION ####\n",
    "\n",
    "def some_func(some_arguments):\n",
    "    \"\"\"\n",
    "    function description goes here\n",
    "    \"\"\"\n",
    "    return some_arguments*2\n",
    "\n",
    "#help(some_func)"
   ]
  },
  {
   "cell_type": "code",
   "execution_count": 229,
   "metadata": {},
   "outputs": [
    {
     "data": {
      "text/plain": [
       "[2, 4]"
      ]
     },
     "execution_count": 229,
     "metadata": {},
     "output_type": "execute_result"
    }
   ],
   "source": [
    "#### MAP FILTER LAMBDA ####\n",
    "\n",
    "temp_list = [1,2,3,4,5]\n",
    "def check_even_numb(num):\n",
    "    return num%2==0\n",
    "\n",
    "### map - used to run the function at some list\n",
    "list(map(some_func,temp_list))\n",
    "\n",
    "### filter - used to filter the list\n",
    "list(filter(check_even_numb,temp_list))\n",
    "\n",
    "# perform some operation without creating a function using LAMBDA-expression:\n",
    "list(map(lambda x: x**2,temp_list))\n",
    "list(filter(lambda x: x%2==0, temp_list))"
   ]
  },
  {
   "cell_type": "code",
   "execution_count": 249,
   "metadata": {},
   "outputs": [],
   "source": [
    "#### OOP ####\n",
    "\n",
    "class SomeClass():\n",
    "    \n",
    "    def __init__(self, var1, var2):\n",
    "        #attributes\n",
    "        self.var1 = var1\n",
    "        self.var2 = var2\n",
    "    \n",
    "    def __len__(self):\n",
    "        return len(self.var1)\n",
    "        \n",
    "    def __str__(self):\n",
    "        return f'print smth: {self.var1} and smth: {self.var2}'\n",
    "    \n",
    "    def __del__(self):\n",
    "        print('Deleted')\n",
    "        \n",
    "\n",
    "ff = SomeClass(var1='Hi',var2='Hey')\n",
    "len(ff)\n",
    "str(ff)\n",
    "del ff\n"
   ]
  },
  {
   "cell_type": "code",
   "execution_count": null,
   "metadata": {},
   "outputs": [],
   "source": [
    "#### inheritance: when you do this: \n",
    "\n",
    "class OtherClass(SomeClass):\n",
    "    def __init__(self):\n",
    "        SomeClass.__init__(self)\n",
    "\n",
    "#### polimorphism: when we have different classes that share the same function. Here's a long example.\n",
    "\n",
    "class Dog():\n",
    "    def __init__(self,name):\n",
    "        self.name = name\n",
    "    def speak(self):\n",
    "        return self.name+' says woof'\n",
    "\n",
    "class Cat():\n",
    "    def __init__(self,name):\n",
    "        self.name = name\n",
    "    def speak(self):\n",
    "        return self.name+' says meow'\n",
    "    \n",
    "\n",
    "felix = Dog(name = 'Felix')\n",
    "kuzya = Cat(name = 'Kuzya')\n",
    "\n",
    "def print_speak(class_name):\n",
    "    print(class_name.speak())\n",
    "    \n",
    "for i in [felix,kuzya]:\n",
    "    print_speak(i)"
   ]
  },
  {
   "cell_type": "code",
   "execution_count": 62,
   "metadata": {},
   "outputs": [],
   "source": [
    "#### PYTHON GENERATORS ####\n",
    "\n",
    "# Generators allow us to generate a sequence over time without storing it\n",
    "# SO, we can just change some_list.append(some_val) to yield\n",
    "\n",
    "# common generator is range() function \n",
    "# list(range(0,1000,step))\n",
    "\n",
    "def createCubes(n):\n",
    "    result = []\n",
    "    for x in range(n):\n",
    "        yield x**3\n",
    "        #now we don't store the whole list, we can generate the values \n",
    "\n",
    "#for x in createCubes(3):\n",
    "#    print(x)\n",
    "\n",
    "# we can cast generated values to the list:\n",
    "list(createCubes(10))\n",
    "\n",
    "########### iter and next  (additional stuff):\n",
    "def some_generator():\n",
    "    for i in range(3):\n",
    "        yield i**2\n",
    "\n",
    "g = some_generator()\n",
    "#print(next(g))   #prints the next element from generated array. Each call tells the generator: \"Give me the next generated element\"\n",
    "\n",
    "temp = 'Hello'\n",
    "#for i in temp:\n",
    "#    print(i)\n",
    "\n",
    "# next(temp) - doesn't work\n",
    "#but if we run iter function:\n",
    "temp_iter = iter(temp)\n",
    "#print(next(temp_iter))"
   ]
  },
  {
   "cell_type": "code",
   "execution_count": 65,
   "metadata": {},
   "outputs": [
    {
     "name": "stdout",
     "output_type": "stream",
     "text": [
      "Added by decorator. Extra actions can be added.\n",
      "\"\"\"decorated func\"\"\"\"\n",
      "Added by decorator. Extra actions can be added.\n"
     ]
    }
   ],
   "source": [
    "#### PYTHON DECORATORS ####\n",
    "\n",
    "# 1. Call function inside another function:\n",
    "\n",
    "def original_func():\n",
    "    return 'Hi stranger!'\n",
    "\n",
    "def other(input_func):\n",
    "    print('Call input func:')\n",
    "    print(input_func())\n",
    "    \n",
    "    \n",
    "# Imagine there is a present and you want to wrap it in a paper. Decorator in this case is a paper to add some functionality\n",
    "# to original function:\n",
    "\n",
    "def decorator(original_func):\n",
    "    def wrap():\n",
    "        # add some code:\n",
    "        print('Added by decorator. Extra actions can be added.')\n",
    "        original_func()\n",
    "        print('Added by decorator. Extra actions can be added.')\n",
    "    return wrap\n",
    "\n",
    "\n",
    "@decorator  # you can switch on/off the decorator by commenting this line \n",
    "def func_to_decorate():\n",
    "    print('\"\"\"decorated func\"\"\"\"')\n",
    "    \n",
    "func_to_decorate()\n",
    "\n",
    "### Popular decorators for web-development: Flask, Django\n",
    "# http://flask.palletsprojects.com/en/1.1.x/\n",
    "# https://www.djangoproject.com/\n"
   ]
  },
  {
   "cell_type": "code",
   "execution_count": null,
   "metadata": {},
   "outputs": [],
   "source": [
    "######   .__name__ and \"__main__\" #####\n",
    "\n",
    "def run_some_script():\n",
    "    print('The temp.py was run directly!')\n",
    "\n",
    "\n",
    "if __name__ == '__main__':\n",
    "    run_some_script()\n",
    "    \n",
    "# so, if you include this code, the run_some_script() will be executed. In another case, when you import temp.py, it won't.\n"
   ]
  },
  {
   "cell_type": "code",
   "execution_count": 2,
   "metadata": {},
   "outputs": [
    {
     "name": "stdout",
     "output_type": "stream",
     "text": [
      "You used strings! Change to int\n",
      "The code is excecuted.\n",
      "Enter the number:404\n",
      "result: 163216\n"
     ]
    }
   ],
   "source": [
    "#### ERRORS and EXCEPTIONS ####\n",
    "\n",
    "try:\n",
    "    for i in ['a','b']:\n",
    "        print(i**2)\n",
    "except:\n",
    "    print('You used strings! Change to int')\n",
    "finally:\n",
    "    print('The code is excecuted.')\n",
    "    \n",
    "\n",
    "def ask():\n",
    "    \n",
    "    while True:\n",
    "        try:\n",
    "            n = int(input('Enter the number:'))\n",
    "        except:\n",
    "            print('only int!') # \n",
    "        else:\n",
    "            break # we brake while True cuz there's no errors\n",
    "        #finally:     \n",
    "    print(f'result: {n**2}')      \n",
    "\n",
    "ask()"
   ]
  },
  {
   "cell_type": "code",
   "execution_count": null,
   "metadata": {},
   "outputs": [],
   "source": [
    "#### UNIT TESTS PACKAGES ####\n",
    " \n",
    "#### pylint (invalid code, styling issue)\n",
    "> pip install pylint\n",
    "> pylint temp.py\n",
    "> grades the code (styling, statistics, raw metrics, duplicated lines, errors, warnings, messages, global evaluation )\n",
    "\n",
    "$ to improve the score: add func description, use proper variable names, add some comments, func names with upperCase, \n",
    "    don't use tabs, use spaces\n",
    "\n",
    "\n",
    "\n",
    "#### unit testing (built-in library, checks if we are getting the desired output)\n",
    "\n",
    "> create a py_file_to_test.py with cap_text function\n",
    "> create a test.py file:\n",
    "    \n",
    "    import unitest\n",
    "    import py_file_to_test \n",
    "    \n",
    "    class TestCap(unittest.Testcase):\n",
    "        def test_one_word(self):\n",
    "            text = 'python'\n",
    "            # getting result from the function we want to test\n",
    "            result = py_file_to_test.cap_text(text)\n",
    "            # text the output with ground truth \n",
    "            self.assertEqual(result,'Python')\n",
    "    \n",
    "    if __name__ = '__main__':\n",
    "        unitest.main()\n",
    "\n",
    "        \n",
    "> in terminal: python test.py\n",
    "\n",
    "        \n"
   ]
  },
  {
   "cell_type": "code",
   "execution_count": 8,
   "metadata": {},
   "outputs": [
    {
     "data": {
      "text/plain": [
       "'UNIT TESTS PACKAGES'"
      ]
     },
     "execution_count": 8,
     "metadata": {},
     "output_type": "execute_result"
    }
   ],
   "source": [
    "'unit tests packages'.upper()"
   ]
  },
  {
   "cell_type": "code",
   "execution_count": 54,
   "metadata": {},
   "outputs": [
    {
     "data": {
      "text/plain": [
       "['lol', 'lol']"
      ]
     },
     "execution_count": 54,
     "metadata": {},
     "output_type": "execute_result"
    }
   ],
   "source": [
    "#### REGEX #### text matching patterns\n",
    "\n",
    "import re\n",
    "patterns = ['hello','lol']\n",
    "text = 'hello lol lol hello'\n",
    "\n",
    "match = re.search(patterns[1],text)\n",
    "text[match.start():match.end()] == patterns[1]\n",
    "\n",
    "# match.start():match.end() == match.span()\n",
    "\n",
    "split_term = '@'\n",
    "temp = 'fkr iokfr a@gmail.com'\n",
    "re.split(split_term,temp)\n",
    "text.split()\n",
    "\n",
    "\n",
    "re.findall(patterns[1],text)\n",
    "\n",
    "#### using metacharacters\n",
    "\n",
    "### check!!! https://www.youtube.com/watch?v=rcM26jV7Mdo\n",
    "# https://prnt.sc/q49mxf\n",
    "# https://github.com/ziishaned/learn-regex !!!!\n",
    "# cheat sheet:  https://www.dataquest.io/blog/regex-cheatsheet/\n",
    "# https://regex101.com/\n",
    "# https://www.machinelearningplus.com/python/python-regex-tutorial-examples/\n",
    "\n",
    "\n",
    "\n"
   ]
  },
  {
   "cell_type": "code",
   "execution_count": 4,
   "metadata": {},
   "outputs": [],
   "source": [
    "#### COMMAND LINE BASICS ####"
   ]
  },
  {
   "cell_type": "code",
   "execution_count": null,
   "metadata": {},
   "outputs": [],
   "source": [
    "#### GIT ####\n",
    "\n",
    "# I have a code, I want to pull it to github.\n",
    "# Which commands do I have to perform?\n"
   ]
  },
  {
   "cell_type": "code",
   "execution_count": null,
   "metadata": {},
   "outputs": [],
   "source": [
    "#### CREATE YOUR OWN MODULES AND PACKAGES ####\n",
    "\n",
    "# module - *.py script called in another *.py script\n",
    "# package - collection of modules\n",
    "\n",
    "# to create a module:\n",
    "\n",
    "# myModule.py\n",
    "#def myFunc():\n",
    "#    print('myModule.py')\n",
    "\n",
    "# myProgram.py:\n",
    "#from myModule import myFunc\n",
    "# myFunc()\n",
    "\n",
    "#### to create a package, we need to add __init__.py file in every package folder!!!!!!\n",
    "\n",
    "# Imagine we have a folder *Package* and subfolder *Subpackage* with scripts inside.\n",
    "\n",
    "# to import script from Package: from Package import script\n",
    "# to import script from Subpackage: from Package.Subpackage import otherScript\n"
   ]
  },
  {
   "cell_type": "code",
   "execution_count": null,
   "metadata": {},
   "outputs": [],
   "source": [
    "#### ADVANCED MODULES ####\n",
    "\n",
    "from collections import Counter\n",
    "\n",
    "l = [1,2,4,6,1,1,3,4,5,6,5]\n",
    "\n",
    "Counter(l)\n",
    "\n",
    "word = 'hola hola amigo'\n",
    "words = word.split()\n",
    "Counter(words)\n",
    "\n",
    "list(Counter(words))\n",
    "dict(Counter(words))\n",
    "Counter(words).items()\n",
    "Counter(words).most_common()\n",
    "\n",
    "\n",
    "from collections import defaultdict\n",
    "\n",
    "# if the key doesn't exists, it creates a key-value pair with default value\n",
    "\n",
    "d = defaultdict(lambda: 1)\n",
    "d['one']\n",
    "print(d.items())\n",
    "\n",
    "\n",
    "from collections import OrderedDict\n",
    "\n",
    "# orders the dict. Normal dict doesn't have an order. Stores the order as was added. \n",
    "\n",
    "# unordered dict = ordered one\n",
    "# ordered != ordrered in another way\n",
    "\n",
    "from collections import namedtuple\n",
    "\n",
    "# gives a key for the tuple\n",
    "\n",
    "Dog = namedtuple('Dog','age name')  ## first one - name of the class. 2nd - self attributes, space is a separator\n",
    "sam = Dog(age = 2, name = 'Sam')\n",
    "sam.age\n",
    "sam[1]\n",
    "\n",
    "####\n",
    "import datetime\n",
    "####\n",
    "import timeit\n",
    "\n",
    "timeit.timeit( ..... some func, number = 100000)\n",
    "\n",
    "in jupyper notebook:\n",
    "    \n",
    "    % timeit .....  for n in range(100)"
   ]
  },
  {
   "cell_type": "code",
   "execution_count": null,
   "metadata": {},
   "outputs": [],
   "source": [
    "python pdb (python debugger)\n",
    "\n",
    "\n",
    ">import pdb\n",
    "\n",
    "some code \n",
    "...\n",
    "\n",
    "# set the trace where you think the problem occurs\n",
    "pdb.set_trace()\n",
    "\n",
    ">check variable's values and run some equations\n",
    ">q to quit\n",
    "...\n",
    "some code\n",
    "...\n",
    "pdb.set_trace()"
   ]
  },
  {
   "cell_type": "code",
   "execution_count": null,
   "metadata": {},
   "outputs": [],
   "source": [
    "##### open files ####\n",
    "file_name = '......_.txt'\n",
    "some_file_opened = open(file_name,'r')  # r w \n",
    "file_read = some_file_opened.read()\n",
    "file_read # to see the content\n",
    "some_file_opened.close()\n",
    "\n",
    "open_again = open(file_name, 'r')\n",
    "lines = open_again.readlines()\n",
    "open_again.close()"
   ]
  },
  {
   "cell_type": "code",
   "execution_count": 57,
   "metadata": {},
   "outputs": [],
   "source": [
    "### recursion ###\n",
    "# it's a function which calls itself\n",
    "# used to problems that can be broken to base case\n",
    "\n",
    "def factiorial(n):\n",
    "    if n==0 or n==1:\n",
    "        return n\n",
    "    else:\n",
    "        return n*factiorial(n-1)\n",
    "        \n",
    "        \n",
    "def fibonacci(n):\n",
    "    if n==0 or n==1:\n",
    "        return 1\n",
    "    else:\n",
    "        return fibonacci(n-1)+fibonacci(n-2)\n",
    "        \n",
    "    "
   ]
  }
 ],
 "metadata": {
  "kernelspec": {
   "display_name": "Python 3",
   "language": "python",
   "name": "python3"
  },
  "language_info": {
   "codemirror_mode": {
    "name": "ipython",
    "version": 3
   },
   "file_extension": ".py",
   "mimetype": "text/x-python",
   "name": "python",
   "nbconvert_exporter": "python",
   "pygments_lexer": "ipython3",
   "version": "3.7.4"
  }
 },
 "nbformat": 4,
 "nbformat_minor": 2
}
